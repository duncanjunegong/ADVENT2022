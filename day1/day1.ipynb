{
 "cells": [
  {
   "cell_type": "markdown",
   "id": "875acc95-1aa0-4bf5-a7f7-5557a8ea12ae",
   "metadata": {},
   "source": [
    "# Task1"
   ]
  },
  {
   "cell_type": "code",
   "execution_count": 1,
   "id": "c92cc9fb-bc53-4c81-a9a9-c789e55e98f2",
   "metadata": {},
   "outputs": [
    {
     "name": "stdout",
     "output_type": "stream",
     "text": [
      "71780\n"
     ]
    }
   ],
   "source": [
    "# task1\n",
    "biggest = 0\n",
    "with open('input') as f:\n",
    "    total = 0\n",
    "    for line in f:\n",
    "        if line.rstrip():\n",
    "            total += int(line.rstrip())\n",
    "        else:\n",
    "            if total >= biggest:\n",
    "                biggest = total\n",
    "            total = 0\n",
    "print(biggest)"
   ]
  },
  {
   "cell_type": "markdown",
   "id": "da62eaeb-360e-49e3-adda-2e77eb15dcf7",
   "metadata": {},
   "source": [
    "# Task2"
   ]
  },
  {
   "cell_type": "code",
   "execution_count": 2,
   "id": "92eac676-6125-4a7b-9d65-702efb43e761",
   "metadata": {},
   "outputs": [
    {
     "data": {
      "text/plain": [
       "212489"
      ]
     },
     "execution_count": 2,
     "metadata": {},
     "output_type": "execute_result"
    }
   ],
   "source": [
    "# task2\n",
    "calory = []\n",
    "with open('input') as f:\n",
    "    total = 0\n",
    "    for line in f:\n",
    "        if line.rstrip():\n",
    "            total += int(line.rstrip())\n",
    "        else:\n",
    "            calory.append(total)\n",
    "            total = 0\n",
    "# sort from large to small\n",
    "calory = sorted(calory, reverse=True)\n",
    "sum(calory[:3])"
   ]
  }
 ],
 "metadata": {
  "kernelspec": {
   "display_name": "Python 3 (ipykernel)",
   "language": "python",
   "name": "python3"
  },
  "language_info": {
   "codemirror_mode": {
    "name": "ipython",
    "version": 3
   },
   "file_extension": ".py",
   "mimetype": "text/x-python",
   "name": "python",
   "nbconvert_exporter": "python",
   "pygments_lexer": "ipython3",
   "version": "3.11.0"
  }
 },
 "nbformat": 4,
 "nbformat_minor": 5
}
