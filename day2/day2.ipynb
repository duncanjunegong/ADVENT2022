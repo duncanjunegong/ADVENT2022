{
 "cells": [
  {
   "cell_type": "code",
   "execution_count": 9,
   "id": "7eca20b8-bb01-47a0-a850-37bc5e806c58",
   "metadata": {},
   "outputs": [],
   "source": [
    "def score(a,b):\n",
    "    match a:\n",
    "        case 'A':#rock\n",
    "            match b:\n",
    "                case 'X':#rock\n",
    "                    return 1+3\n",
    "                case 'Y':#paper\n",
    "                    return 2+6\n",
    "                case 'Z':#scissors\n",
    "                    return 3+0\n",
    "        case 'B':#paper\n",
    "            match b:\n",
    "                case 'X':#rock\n",
    "                    return 1+0\n",
    "                case 'Y':#paper\n",
    "                    return 2+3\n",
    "                case 'Z':#scissors\n",
    "                    return 3+6\n",
    "        case 'C':#scissors\n",
    "            match b:\n",
    "                case 'X':#rock\n",
    "                    return 1+6\n",
    "                case 'Y':#paper\n",
    "                    return 2+0\n",
    "                case 'Z':#scissors\n",
    "                    return 3+3"
   ]
  },
  {
   "cell_type": "code",
   "execution_count": 12,
   "id": "7b1b2e0b-6be5-43f4-9982-ef9c6a7323bc",
   "metadata": {},
   "outputs": [
    {
     "name": "stdout",
     "output_type": "stream",
     "text": [
      "13268\n"
     ]
    }
   ],
   "source": [
    "total = 0\n",
    "with open('input.txt') as f:\n",
    "    for line in f:\n",
    "        line = line.rstrip()\n",
    "        opponent, respond = line.split(' ')\n",
    "        total += score(opponent, respond)\n",
    "print(total)"
   ]
  },
  {
   "cell_type": "code",
   "execution_count": 13,
   "id": "7349bf86-2584-4d2c-8096-b9ca37b0f133",
   "metadata": {},
   "outputs": [],
   "source": [
    "def score2(a,b):\n",
    "    match a:\n",
    "        case 'A':#rock\n",
    "            match b:\n",
    "                case 'X':#loss\n",
    "                    return 3+0\n",
    "                case 'Y':#draw\n",
    "                    return 1+3\n",
    "                case 'Z':#win\n",
    "                    return 2+6\n",
    "        case 'B':#paper\n",
    "            match b:\n",
    "                case 'X':#loss\n",
    "                    return 1+0\n",
    "                case 'Y':#draw\n",
    "                    return 2+3\n",
    "                case 'Z':#win\n",
    "                    return 3+6\n",
    "        case 'C':#scissors\n",
    "            match b:\n",
    "                case 'X':#loss\n",
    "                    return 2+0\n",
    "                case 'Y':#draw\n",
    "                    return 3+3\n",
    "                case 'Z':#win\n",
    "                    return 1+6"
   ]
  },
  {
   "cell_type": "code",
   "execution_count": 15,
   "id": "635ef796-77db-4e6d-8e74-5f9a2224cff7",
   "metadata": {},
   "outputs": [
    {
     "name": "stdout",
     "output_type": "stream",
     "text": [
      "15508\n"
     ]
    }
   ],
   "source": [
    "total = 0\n",
    "with open('input.txt') as f:\n",
    "    for line in f:\n",
    "        line = line.rstrip()\n",
    "        opponent, respond = line.split(' ')\n",
    "        total += score2(opponent, respond)\n",
    "print(total)"
   ]
  },
  {
   "cell_type": "code",
   "execution_count": null,
   "id": "197e78d0-d862-4f5d-8da1-e3281329a6fc",
   "metadata": {},
   "outputs": [],
   "source": []
  }
 ],
 "metadata": {
  "kernelspec": {
   "display_name": "Python 3 (ipykernel)",
   "language": "python",
   "name": "python3"
  },
  "language_info": {
   "codemirror_mode": {
    "name": "ipython",
    "version": 3
   },
   "file_extension": ".py",
   "mimetype": "text/x-python",
   "name": "python",
   "nbconvert_exporter": "python",
   "pygments_lexer": "ipython3",
   "version": "3.11.0"
  }
 },
 "nbformat": 4,
 "nbformat_minor": 5
}
