{
 "cells": [
  {
   "cell_type": "code",
   "execution_count": 4,
   "id": "fd62c60c-7596-4b46-96f2-7cb1286f4f73",
   "metadata": {},
   "outputs": [
    {
     "name": "stdout",
     "output_type": "stream",
     "text": [
      "448\n"
     ]
    }
   ],
   "source": [
    "total = 0\n",
    "with open('input.txt') as f:\n",
    "    for line in f:\n",
    "        line = line.rstrip()\n",
    "        first, second = line.split(',')\n",
    "        f1, f2 = first.split('-')\n",
    "        s1, s2 = second.split('-')\n",
    "        f1, f2, s1, s2 = int(f1), int(f2), int(s1), int(s2)\n",
    "        if f2-f1 >= s2 - s1:\n",
    "            if f1 <= s1 and f2 >= s2:\n",
    "                total += 1\n",
    "        else:\n",
    "            if f1 >= s1 and f2 <= s2:\n",
    "                total += 1\n",
    "\n",
    "print(total)"
   ]
  },
  {
   "cell_type": "code",
   "execution_count": null,
   "id": "db36bbad-c644-4783-ab98-23f84b68ce76",
   "metadata": {},
   "outputs": [],
   "source": [
    "def overlap(f1, f2, s1, s2):\n",
    "    if s1 >= f1 and s1 <= f2:\n",
    "        return True\n",
    "    elif s2 >= f1 and s2 <= f2:\n",
    "        return True\n",
    "    elif s1 <= f1 and s2 <= f2:\n",
    "        return True"
   ]
  },
  {
   "cell_type": "code",
   "execution_count": null,
   "id": "4d0a0d69-10a4-4785-874d-72e498441d46",
   "metadata": {},
   "outputs": [],
   "source": [
    "total = 0\n",
    "with open('input.txt') as f:\n",
    "    for line in f:\n",
    "        line = line.rstrip()\n",
    "        first, second = line.split(',')\n",
    "        f1, f2 = first.split('-')\n",
    "        s1, s2 = second.split('-')\n",
    "        f1, f2, s1, s2 = int(f1), int(f2), int(s1), int(s2)\n",
    "        if f2-f1 >= s2 - s1:\n",
    "            if f1 <= s1 and f2 >= s2:\n",
    "                total += 1\n",
    "        else:\n",
    "            if f1 >= s1 and f2 <= s2:\n",
    "                total += 1\n",
    "\n",
    "print(total)"
   ]
  }
 ],
 "metadata": {
  "kernelspec": {
   "display_name": "Python 3 (ipykernel)",
   "language": "python",
   "name": "python3"
  },
  "language_info": {
   "codemirror_mode": {
    "name": "ipython",
    "version": 3
   },
   "file_extension": ".py",
   "mimetype": "text/x-python",
   "name": "python",
   "nbconvert_exporter": "python",
   "pygments_lexer": "ipython3",
   "version": "3.11.0"
  }
 },
 "nbformat": 4,
 "nbformat_minor": 5
}
