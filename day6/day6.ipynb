{
 "cells": [
  {
   "cell_type": "markdown",
   "id": "33b9d7e5-9352-4733-9012-61411ea3281e",
   "metadata": {},
   "source": [
    "# Task1"
   ]
  },
  {
   "cell_type": "code",
   "execution_count": 1,
   "id": "12427004-f6ae-40df-9ccd-55634f2a6a81",
   "metadata": {},
   "outputs": [
    {
     "name": "stdout",
     "output_type": "stream",
     "text": [
      "1920\n"
     ]
    }
   ],
   "source": [
    "with open('input.txt') as f:\n",
    "    line = f.read()\n",
    "\n",
    "for i in range(4, len(line)+1):\n",
    "    four = line[i-4:i]\n",
    "    if len(set(four)) == 4:\n",
    "        print(i)\n",
    "        break"
   ]
  },
  {
   "cell_type": "markdown",
   "id": "0bc955ef-dbab-4e8b-bf95-1d0c2bd6c497",
   "metadata": {},
   "source": [
    "# Task2"
   ]
  },
  {
   "cell_type": "code",
   "execution_count": 2,
   "id": "5f473385-86cb-4dc8-87f9-870ddc3c0f06",
   "metadata": {},
   "outputs": [
    {
     "name": "stdout",
     "output_type": "stream",
     "text": [
      "2334\n"
     ]
    }
   ],
   "source": [
    "with open('input.txt') as f:\n",
    "    line = f.read()\n",
    "\n",
    "for i in range(14, len(line)+1):\n",
    "    four = line[i-14:i]\n",
    "    if len(set(four)) == 14:\n",
    "        print(i)\n",
    "        break"
   ]
  }
 ],
 "metadata": {
  "kernelspec": {
   "display_name": "Python 3 (ipykernel)",
   "language": "python",
   "name": "python3"
  },
  "language_info": {
   "codemirror_mode": {
    "name": "ipython",
    "version": 3
   },
   "file_extension": ".py",
   "mimetype": "text/x-python",
   "name": "python",
   "nbconvert_exporter": "python",
   "pygments_lexer": "ipython3",
   "version": "3.11.0"
  }
 },
 "nbformat": 4,
 "nbformat_minor": 5
}
