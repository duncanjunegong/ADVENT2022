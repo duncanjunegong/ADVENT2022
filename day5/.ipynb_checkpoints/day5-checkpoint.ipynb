{
 "cells": [
  {
   "cell_type": "code",
   "execution_count": 70,
   "id": "1849dea9-c086-47ca-a6a5-f13ac74e9dde",
   "metadata": {},
   "outputs": [
    {
     "name": "stdout",
     "output_type": "stream",
     "text": [
      "['V', 'R', 'H', 'B', 'G', 'D', 'W']\n"
     ]
    }
   ],
   "source": [
    "stacks = [[] for _ in range(9)]\n",
    "with open('stack.txt') as f:\n",
    "    for line in f:\n",
    "        for i, ind in enumerate(range(0, len(line), 4)):\n",
    "            crate = line[ind:ind+4].strip()[1:2]\n",
    "            if crate != '':\n",
    "                stacks[i].append(crate)\n",
    "print(stacks[0])"
   ]
  },
  {
   "cell_type": "code",
   "execution_count": 71,
   "id": "a438935d-30c7-4e5c-a7ef-0b68426c73ba",
   "metadata": {},
   "outputs": [
    {
     "name": "stdout",
     "output_type": "stream",
     "text": [
      "JRVNHHCSJ\n"
     ]
    }
   ],
   "source": [
    "import re\n",
    "with open('steps.txt') as f:\n",
    "    for line in f:\n",
    "        match = re.findall( 'move (\\d+) from (\\d+) to (\\d+)', line )\n",
    "        move, fro, to = match[0]\n",
    "        move, fro, to = int(move), int(fro), int(to)\n",
    "        for _ in range(move):\n",
    "            take = stacks[fro-1].pop(0)\n",
    "            stacks[to-1].insert(0, take)\n",
    "print(\"\".join([s[0] for s in stacks]))"
   ]
  }
 ],
 "metadata": {
  "kernelspec": {
   "display_name": "Python 3 (ipykernel)",
   "language": "python",
   "name": "python3"
  },
  "language_info": {
   "codemirror_mode": {
    "name": "ipython",
    "version": 3
   },
   "file_extension": ".py",
   "mimetype": "text/x-python",
   "name": "python",
   "nbconvert_exporter": "python",
   "pygments_lexer": "ipython3",
   "version": "3.11.0"
  }
 },
 "nbformat": 4,
 "nbformat_minor": 5
}
