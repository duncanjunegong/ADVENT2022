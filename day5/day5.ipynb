{
 "cells": [
  {
   "cell_type": "code",
   "execution_count": 70,
   "id": "1849dea9-c086-47ca-a6a5-f13ac74e9dde",
   "metadata": {},
   "outputs": [
    {
     "name": "stdout",
     "output_type": "stream",
     "text": [
      "['V', 'R', 'H', 'B', 'G', 'D', 'W']\n"
     ]
    }
   ],
   "source": [
    "stacks = [[] for _ in range(9)]\n",
    "with open('stack.txt') as f:\n",
    "    for line in f:\n",
    "        for i, ind in enumerate(range(0, len(line), 4)):\n",
    "            crate = line[ind:ind+4].strip()[1:2]\n",
    "            if crate != '':\n",
    "                stacks[i].append(crate)\n",
    "print(stacks[0])"
   ]
  },
  {
   "cell_type": "code",
   "execution_count": 71,
   "id": "a438935d-30c7-4e5c-a7ef-0b68426c73ba",
   "metadata": {},
   "outputs": [
    {
     "name": "stdout",
     "output_type": "stream",
     "text": [
      "JRVNHHCSJ\n"
     ]
    }
   ],
   "source": [
    "import re\n",
    "with open('steps.txt') as f:\n",
    "    for line in f:\n",
    "        match = re.findall( 'move (\\d+) from (\\d+) to (\\d+)', line )\n",
    "        move, fro, to = match[0]\n",
    "        move, fro, to = int(move), int(fro), int(to)\n",
    "        for _ in range(move):\n",
    "            take = stacks[fro-1].pop(0)\n",
    "            stacks[to-1].insert(0, take)\n",
    "print(\"\".join([s[0] for s in stacks]))"
   ]
  },
  {
   "cell_type": "code",
   "execution_count": 74,
   "id": "32496c29-429f-4874-b0d8-a22dcdf945bd",
   "metadata": {},
   "outputs": [
    {
     "name": "stdout",
     "output_type": "stream",
     "text": [
      "['V', 'R', 'H', 'B', 'G', 'D', 'W']\n"
     ]
    }
   ],
   "source": [
    "stacks = [[] for _ in range(9)]\n",
    "with open('stack.txt') as f:\n",
    "    for line in f:\n",
    "        for i, ind in enumerate(range(0, len(line), 4)):\n",
    "            crate = line[ind:ind+4].strip()[1:2]\n",
    "            if crate != '':\n",
    "                stacks[i].append(crate)\n",
    "print(stacks[0])"
   ]
  },
  {
   "cell_type": "code",
   "execution_count": 77,
   "id": "84a00556-ad8f-4326-b941-53ac7d77459b",
   "metadata": {},
   "outputs": [
    {
     "name": "stderr",
     "output_type": "stream",
     "text": [
      "IOPub data rate exceeded.\n",
      "The Jupyter server will temporarily stop sending output\n",
      "to the client in order to avoid crashing it.\n",
      "To change this limit, set the config variable\n",
      "`--ServerApp.iopub_data_rate_limit`.\n",
      "\n",
      "Current values:\n",
      "ServerApp.iopub_data_rate_limit=1000000.0 (bytes/sec)\n",
      "ServerApp.rate_limit_window=3.0 (secs)\n",
      "\n"
     ]
    },
    {
     "ename": "KeyboardInterrupt",
     "evalue": "",
     "output_type": "error",
     "traceback": [
      "\u001b[0;31m---------------------------------------------------------------------------\u001b[0m",
      "\u001b[0;31mKeyboardInterrupt\u001b[0m                         Traceback (most recent call last)",
      "Cell \u001b[0;32mIn[77], line 9\u001b[0m\n\u001b[1;32m      7\u001b[0m         \u001b[38;5;28mprint\u001b[39m(move, fro, to)\n\u001b[1;32m      8\u001b[0m         take \u001b[38;5;241m=\u001b[39m stacks[fro\u001b[38;5;241m-\u001b[39m\u001b[38;5;241m1\u001b[39m][:move]\n\u001b[0;32m----> 9\u001b[0m         \u001b[38;5;28mprint\u001b[39m(take)\n\u001b[1;32m     10\u001b[0m \u001b[38;5;66;03m#         print(take)\u001b[39;00m\n\u001b[1;32m     11\u001b[0m \u001b[38;5;66;03m#         stacks[to-1].insert(0, take)\u001b[39;00m\n\u001b[1;32m     12\u001b[0m \u001b[38;5;66;03m# print(\"\".join([s[0] for s in stacks]))\u001b[39;00m\n",
      "\u001b[0;31mKeyboardInterrupt\u001b[0m: "
     ]
    }
   ],
   "source": [
    "import re\n",
    "with open('steps.txt') as f:\n",
    "    for line in f:\n",
    "        match = re.findall( 'move (\\d+) from (\\d+) to (\\d+)', line )\n",
    "        move, fro, to = match[0]\n",
    "        move, fro, to = int(move), int(fro), int(to)\n",
    "\n",
    "        take = stacks[fro-1][:move]\n",
    "        stacks[fro-1] = stacks[fro-1][move:]\n",
    "        take = \n",
    "#         print(take)\n",
    "#         stacks[to-1].insert(0, take)\n",
    "# print(\"\".join([s[0] for s in stacks]))"
   ]
  },
  {
   "cell_type": "code",
   "execution_count": 78,
   "id": "c9268c88-7ead-43b6-9103-940e8af73318",
   "metadata": {},
   "outputs": [
    {
     "data": {
      "text/plain": [
       "[1, 2, 3]"
      ]
     },
     "execution_count": 78,
     "metadata": {},
     "output_type": "execute_result"
    }
   ],
   "source": [
    "[1,2,3,4][:3]"
   ]
  },
  {
   "cell_type": "code",
   "execution_count": null,
   "id": "cc2af442-1040-4f58-9c5b-d3b2f42a3e91",
   "metadata": {},
   "outputs": [],
   "source": []
  }
 ],
 "metadata": {
  "kernelspec": {
   "display_name": "Python 3 (ipykernel)",
   "language": "python",
   "name": "python3"
  },
  "language_info": {
   "codemirror_mode": {
    "name": "ipython",
    "version": 3
   },
   "file_extension": ".py",
   "mimetype": "text/x-python",
   "name": "python",
   "nbconvert_exporter": "python",
   "pygments_lexer": "ipython3",
   "version": "3.11.0"
  }
 },
 "nbformat": 4,
 "nbformat_minor": 5
}
