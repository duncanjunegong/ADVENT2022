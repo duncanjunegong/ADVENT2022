{
 "cells": [
  {
   "cell_type": "markdown",
   "metadata": {},
   "source": [
    "# Trees and Recursion"
   ]
  },
  {
   "cell_type": "markdown",
   "metadata": {},
   "source": [
    "---\n",
    "\n",
    "## Before Class\n",
    "This weeks class we will be implementing a depth-first tree search.\n",
    "\n",
    "Prior to class, please do the following:\n",
    "1. Review tree class structure provided\n",
    "2. Review the concept of recursion\n"
   ]
  },
  {
   "cell_type": "markdown",
   "metadata": {},
   "source": [
    "---\n",
    "## Learning Objectives\n",
    "\n",
    "1. Understanding of tree structures and searching depth-first\n",
    "* Understanding of recursion\n"
   ]
  },
  {
   "cell_type": "markdown",
   "metadata": {},
   "source": [
    "---\n",
    "## Background\n",
    "Trees are a common structure for data in bioinformatics. One of the main reasons for this is that a tree structure can allow for a more efficient implementation of algorithms such as searching and sorting. In the future we will use trees to perform phyologenetic analyses. \n",
    "\n",
    "Today we will be implementing an algorithm for searching trees such as our phylogenetic tree generated in the last class. The two main ways for searching a tree are depth-first or breadth-first. We can progress to the leaf node on each branch of the tree (depth-first). For example, in our tree below, we can progress A to B to D to E to G to H etc. Alternatively, we can examine all of the leaves at each heigh of the tree (breadth first). For example, this would progress as A to B to C to D to E to F etc.\n",
    "\n",
    "These functions are often written as a recursive function: the solution at each step depends on the solutions to smaller instances of the same problem. For example, in the case of depth-first search, the problem is determining if a node matches the value we are searching for or if its children match the value. Therefore, we can write a function:\n",
    "\n",
    "```\n",
    "    depth_first(value):\n",
    "        do_I_match_value?\n",
    "        depth_first(children)\n",
    "```\n",
    "\n",
    "To start, we will implement a function to print all of the tree in a depth-first manner. Next, we will use the same function structure to search for a value and stop once we've found it.\n",
    "\n",
    "---\n",
    "Next we will implement a breadth-first search of our tree from class. We can think of the breadth first implementation as testing across each level of the tree rather than all the way to each leaf. Given the same tree below, a breadth first printing starting at the root 'A' will progress as 'A, B, C, D, E, F, G, H, I'. A search for 'E' will progress as 'A, B, C, D, E'.\n",
    "\n",
    "\n",
    "```\n",
    "    breadth_first(value):\n",
    "        queue = [root node]\n",
    "        for each item in queue:\n",
    "            do_I_match_value?\n",
    "            append all children to queue\n",
    "```\n",
    "\n",
    "\n",
    "<img src=\"figures/tree_example.png\">\n"
   ]
  },
  {
   "cell_type": "markdown",
   "metadata": {},
   "source": [
    "---\n"
   ]
  },
  {
   "cell_type": "code",
   "execution_count": null,
   "metadata": {},
   "outputs": [],
   "source": [
    "# These classes do not need to be changed\n",
    "\n",
    "class TreeNode:\n",
    "    \"\"\" Class for holding nodes in the tree\n",
    "    \"\"\"\n",
    "    def __init__(self, value=None):\n",
    "        self._value = value\n",
    "        self._children = []\n",
    "        \n",
    "    __all__ = ['value', 'children', 'add_child']\n",
    "\n",
    "    @property\n",
    "    def value(self):\n",
    "        return self._value\n",
    "\n",
    "    @property\n",
    "    def children(self):\n",
    "        return self._children\n",
    "\n",
    "    def add_child(self, child_node):\n",
    "        self._children.append(child_node)\n",
    "            \n",
    "class BaseTree:\n",
    "    \"\"\"Main class for Tree\n",
    "    This tree contains tree_node objects\n",
    "    \n",
    "    Private Attributes:\n",
    "        nodes (list of tree_node): All of the nodes in the tree\n",
    "    \"\"\"\n",
    "    def __init__(self):\n",
    "        self.nodes = {} # Empty tree dictionary for references\n",
    "        \n",
    "    __all__ = ['add_node']\n",
    "        \n",
    "    def add_node(self, value, parent_value=None):\n",
    "        \"\"\" Adds a node to the tree\n",
    "                by default there is no parent associated with a node\n",
    "                \n",
    "            Args:\n",
    "                value (str): Value for the node (also this is the name of the node)\n",
    "                parent_value (str): the name of the parent node\n",
    "        \"\"\"\n",
    "        new_node = TreeNode(value)\n",
    "        self.nodes[value] = new_node #Keep track of our objects in a dictionary\n",
    "\n",
    "        if parent_value is not None:\n",
    "            parent_node = self.nodes[parent_value]\n",
    "            parent_node.add_child(new_node)\n",
    "            \n"
   ]
  },
  {
   "cell_type": "code",
   "execution_count": null,
   "metadata": {},
   "outputs": [],
   "source": [
    "class Tree(BaseTree):\n",
    "    def print_tree_depth_first(self, root_value):\n",
    "        ''' This function will print our tree in a depth-first format.\n",
    "        \n",
    "        Args:\n",
    "            root_value (str): The name of the root node in the tree\n",
    "\n",
    "        Returns:\n",
    "            Prints tree depth-first       \n",
    "        \n",
    "        '''\n",
    "        print(root_value)\n",
    "        \n",
    "        for child in self.nodes[root_value].children:\n",
    "            self.print_tree_depth_first(child.value) \n",
    "            \n",
    "    def depth_first_search(self, root_value, search_value):\n",
    "        ''' This function will perform a depth first search on our tree\n",
    "        and will print every node value until it hits the item we are searching for.\n",
    "        \n",
    "        Args:\n",
    "            root_value (str): The name of the root node in the tree\n",
    "            search_value (str): The value that we are searching for\n",
    "\n",
    "        Returns:\n",
    "            found (bool): If the tree contains the value\n",
    "            Prints tree depth-first up to search value\n",
    "        \n",
    "        \n",
    "        '''\n",
    "        print(root_value)\n",
    "        if search_value == root_value:\n",
    "            return True\n",
    "            \n",
    "        for child in self.nodes[root_value].children:\n",
    "            if self.depth_first_search(child.value, search_value):\n",
    "                return True\n",
    "        \n",
    "    def print_tree_breadth_first(self, root_value):\n",
    "        ''' This function will print our tree in a breadth-first format.\n",
    "        \n",
    "        Args:\n",
    "            root_value (str): The name of the root node to start printing from\n",
    "\n",
    "        Returns:\n",
    "            Prints tree breadth-first       \n",
    "        \n",
    "        '''\n",
    "        queue = [root_value]\n",
    "        \n",
    "        while queue:\n",
    "            current = queue.pop(0)\n",
    "            print(current)\n",
    "            for child in self.nodes[current].children:\n",
    "                queue.append(child.value)\n",
    "            \n",
    "    def breadth_first_search(self, root_value, search_value):\n",
    "        ''' This function will perform a breadth first search on our tree\n",
    "        and will print every node value until it hits the item we are searching for.\n",
    "        \n",
    "        Args:\n",
    "            root_value (str): The name of the root node where the search will start\n",
    "            search_value (str): The value that we are searching for\n",
    "\n",
    "        Returns:\n",
    "            found (bool): If the tree contains the value\n",
    "            Prints tree depth-first up to search value\n",
    "        \n",
    "        \n",
    "        '''\n",
    "        queue = [root_value]\n",
    "        \n",
    "        while queue:\n",
    "            current = queue.pop(0)\n",
    "            print(current)\n",
    "            if search_value == current:\n",
    "                return True\n",
    "            for child in self.nodes[current].children:\n",
    "                queue.append(child.value)\n",
    "        \n",
    "        return False"
   ]
  },
  {
   "cell_type": "code",
   "execution_count": null,
   "metadata": {},
   "outputs": [],
   "source": [
    "# This code will build the tree example from above\n",
    "\n",
    "tree = Tree()\n",
    "tree.add_node(\"A\")  # root node\n",
    "tree.add_node(\"B\", \"A\")\n",
    "tree.add_node(\"C\", \"A\")\n",
    "tree.add_node(\"D\", \"B\")\n",
    "tree.add_node(\"E\", \"B\")\n",
    "tree.add_node(\"G\", \"E\")\n",
    "tree.add_node(\"H\", \"E\")\n",
    "tree.add_node(\"F\", \"C\")\n",
    "tree.add_node(\"I\", \"F\")\n"
   ]
  },
  {
   "cell_type": "code",
   "execution_count": null,
   "metadata": {},
   "outputs": [],
   "source": [
    "# Test of print_tree_depth_first:\n",
    "tree.print_tree_depth_first(\"A\")"
   ]
  },
  {
   "cell_type": "raw",
   "metadata": {},
   "source": [
    "Expected output:\n",
    "A\n",
    "B\n",
    "D\n",
    "E\n",
    "G\n",
    "H\n",
    "C\n",
    "F\n",
    "I\n"
   ]
  },
  {
   "cell_type": "code",
   "execution_count": null,
   "metadata": {},
   "outputs": [],
   "source": [
    "# Test of depth_first_search:\n",
    "tree.depth_first_search(\"A\", \"E\")"
   ]
  },
  {
   "cell_type": "raw",
   "metadata": {},
   "source": [
    "Expected output:\n",
    "A\n",
    "B\n",
    "D\n",
    "E\n",
    "True"
   ]
  },
  {
   "cell_type": "code",
   "execution_count": null,
   "metadata": {},
   "outputs": [],
   "source": [
    "# Test of print_tree_breadth_first:\n",
    "tree.print_tree_breadth_first(\"A\")"
   ]
  },
  {
   "cell_type": "markdown",
   "metadata": {},
   "source": [
    "Expected output:\n",
    "A\n",
    "B\n",
    "C\n",
    "D\n",
    "E\n",
    "F\n",
    "G\n",
    "H\n",
    "I"
   ]
  },
  {
   "cell_type": "code",
   "execution_count": null,
   "metadata": {},
   "outputs": [],
   "source": [
    "# Test of breadth_first_search:\n",
    "tree.breadth_first_search(\"A\", \"E\")"
   ]
  },
  {
   "cell_type": "markdown",
   "metadata": {},
   "source": [
    "Expected output:\n",
    "A\n",
    "B\n",
    "C\n",
    "D\n",
    "E\n",
    "True"
   ]
  }
 ],
 "metadata": {
  "kernelspec": {
   "display_name": "Python 3",
   "language": "python",
   "name": "python3"
  },
  "language_info": {
   "codemirror_mode": {
    "name": "ipython",
    "version": 3
   },
   "file_extension": ".py",
   "mimetype": "text/x-python",
   "name": "python",
   "nbconvert_exporter": "python",
   "pygments_lexer": "ipython3",
   "version": "3.7.2"
  }
 },
 "nbformat": 4,
 "nbformat_minor": 2
}
