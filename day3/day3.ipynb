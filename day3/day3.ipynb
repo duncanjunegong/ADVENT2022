{
 "cells": [
  {
   "cell_type": "markdown",
   "id": "1606b992-c55a-4aae-9a68-255f9178d85e",
   "metadata": {},
   "source": [
    "# Task1"
   ]
  },
  {
   "cell_type": "code",
   "execution_count": 1,
   "id": "63caa0c1-9c06-4fc0-b858-22e42b4e777f",
   "metadata": {},
   "outputs": [
    {
     "name": "stdout",
     "output_type": "stream",
     "text": [
      "7917\n"
     ]
    }
   ],
   "source": [
    "total = 0\n",
    "with open('input.txt') as f:\n",
    "    for line in f:\n",
    "        line = line.rstrip()\n",
    "        first = line[:int(len(line)/2)]\n",
    "        second = line[int(len(line)/2):]\n",
    "        common = list(set(first) & set(second))[0]\n",
    "        if common.isupper():\n",
    "            total += ord(common) - 38 # 'A' is 27\n",
    "        else:\n",
    "            total += ord(common) - 96 # 'a' is 1\n",
    "print(total)"
   ]
  },
  {
   "cell_type": "markdown",
   "id": "d4ddff43-ed10-4694-9b09-0cdf81967212",
   "metadata": {},
   "source": [
    "# Task2"
   ]
  },
  {
   "cell_type": "code",
   "execution_count": 2,
   "id": "f0942fd5-5659-4e8c-b204-66e61e105f43",
   "metadata": {},
   "outputs": [
    {
     "name": "stdout",
     "output_type": "stream",
     "text": [
      "2585\n"
     ]
    }
   ],
   "source": [
    "from itertools import islice\n",
    "total = 0\n",
    "with open('input.txt') as f:\n",
    "    for no, line in enumerate(f):\n",
    "        line = line.rstrip()\n",
    "        if no % 3 == 0:\n",
    "            set1 = set(line)\n",
    "        elif no % 3 == 1:\n",
    "            set2 = set(line)\n",
    "        else:\n",
    "            set3 = set(line)\n",
    "            common = list(set1 & set2 & set3)[0]\n",
    "            if common.isupper():\n",
    "                total += ord(common) - 38 # 'A' is 27\n",
    "            else:\n",
    "                total += ord(common) - 96 # 'a' is 1\n",
    "\n",
    "print(total)"
   ]
  }
 ],
 "metadata": {
  "kernelspec": {
   "display_name": "Python 3 (ipykernel)",
   "language": "python",
   "name": "python3"
  },
  "language_info": {
   "codemirror_mode": {
    "name": "ipython",
    "version": 3
   },
   "file_extension": ".py",
   "mimetype": "text/x-python",
   "name": "python",
   "nbconvert_exporter": "python",
   "pygments_lexer": "ipython3",
   "version": "3.11.0"
  }
 },
 "nbformat": 4,
 "nbformat_minor": 5
}
