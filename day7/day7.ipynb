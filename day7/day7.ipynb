{
 "cells": [
  {
   "cell_type": "code",
   "execution_count": 1,
   "id": "194f1fac-3ddb-4078-827a-e2a1c7d09645",
   "metadata": {},
   "outputs": [
    {
     "name": "stdout",
     "output_type": "stream",
     "text": [
      "1783610\n"
     ]
    }
   ],
   "source": [
    "path_cas = [] # ['/','a','b']\n",
    "size_dict = dict()\n",
    "import re\n",
    "with open('input.txt') as f:\n",
    "    for line in f:\n",
    "        line = line.rstrip()\n",
    "        if line.startswith('$ cd'):\n",
    "            dir_name = re.findall('\\$ cd (.+)', line)[0]\n",
    "            if dir_name == '..':\n",
    "                path_cas.pop()\n",
    "            else:\n",
    "                path_cas.append(dir_name)\n",
    "                abs_path = '/'.join(path_cas)\n",
    "                size_dict[abs_path] = 0\n",
    "        elif line == '$ ls':\n",
    "            continue\n",
    "        else:\n",
    "            left = line.split(' ')[0]\n",
    "            if left == 'dir':\n",
    "                continue\n",
    "            else:\n",
    "                left = int(left)\n",
    "                for index in range(len(path_cas)):\n",
    "                    abs_path = '/'.join(path_cas[:index+1])\n",
    "                    size_dict[abs_path] += left\n",
    "\n",
    "total = 0\n",
    "for key, value in size_dict.items():\n",
    "    if value <= 100000:\n",
    "        total += value\n",
    "print(total)"
   ]
  },
  {
   "cell_type": "code",
   "execution_count": 2,
   "id": "54e82ec1-5b68-4f65-aaf7-c50a2802b46b",
   "metadata": {},
   "outputs": [
    {
     "name": "stdout",
     "output_type": "stream",
     "text": [
      "4370655\n"
     ]
    }
   ],
   "source": [
    "smallest = 70000000\n",
    "for key, value in size_dict.items():\n",
    "    if value >= 30000000 - (70000000 - size_dict['/']):\n",
    "        if value < smallest:\n",
    "            smallest = value\n",
    "print(smallest)"
   ]
  }
 ],
 "metadata": {
  "kernelspec": {
   "display_name": "Python 3 (ipykernel)",
   "language": "python",
   "name": "python3"
  },
  "language_info": {
   "codemirror_mode": {
    "name": "ipython",
    "version": 3
   },
   "file_extension": ".py",
   "mimetype": "text/x-python",
   "name": "python",
   "nbconvert_exporter": "python",
   "pygments_lexer": "ipython3",
   "version": "3.11.0"
  }
 },
 "nbformat": 4,
 "nbformat_minor": 5
}
